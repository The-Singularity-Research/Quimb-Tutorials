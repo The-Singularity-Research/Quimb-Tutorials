{
 "cells": [
  {
   "cell_type": "markdown",
   "metadata": {},
   "source": [
    "# Tutorial 2"
   ]
  },
  {
   "cell_type": "code",
   "execution_count": 1,
   "metadata": {},
   "outputs": [
    {
     "name": "stdout",
     "output_type": "stream",
     "text": [
      "Requirement already satisfied: quimb in /Users/amelieschreiber/anaconda3/lib/python3.7/site-packages (1.2.0)\n",
      "Requirement already satisfied: autoray>=0.1 in /Users/amelieschreiber/anaconda3/lib/python3.7/site-packages (from quimb) (0.1.1)\n",
      "Requirement already satisfied: opt-einsum>=2 in /Users/amelieschreiber/anaconda3/lib/python3.7/site-packages (from quimb) (3.1.0)\n",
      "Requirement already satisfied: cytoolz>=0.8.0 in /Users/amelieschreiber/anaconda3/lib/python3.7/site-packages (from quimb) (0.10.0)\n",
      "Requirement already satisfied: tqdm>=4 in /Users/amelieschreiber/anaconda3/lib/python3.7/site-packages (from quimb) (4.32.1)\n",
      "Requirement already satisfied: numba>=0.39 in /Users/amelieschreiber/anaconda3/lib/python3.7/site-packages (from quimb) (0.44.1)\n",
      "Requirement already satisfied: psutil>=4.3.1 in /Users/amelieschreiber/anaconda3/lib/python3.7/site-packages (from quimb) (5.6.3)\n",
      "Requirement already satisfied: scipy>=1.0.0 in /Users/amelieschreiber/anaconda3/lib/python3.7/site-packages (from quimb) (1.3.0)\n",
      "Requirement already satisfied: numpy>=1.12 in /Users/amelieschreiber/anaconda3/lib/python3.7/site-packages (from quimb) (1.16.4)\n",
      "Requirement already satisfied: toolz>=0.8.0 in /Users/amelieschreiber/anaconda3/lib/python3.7/site-packages (from cytoolz>=0.8.0->quimb) (0.10.0)\n",
      "Requirement already satisfied: llvmlite>=0.29.0 in /Users/amelieschreiber/anaconda3/lib/python3.7/site-packages (from numba>=0.39->quimb) (0.29.0)\n",
      "Note: you may need to restart the kernel to use updated packages.\n"
     ]
    }
   ],
   "source": [
    "pip install quimb"
   ]
  },
  {
   "cell_type": "code",
   "execution_count": 2,
   "metadata": {},
   "outputs": [
    {
     "name": "stdout",
     "output_type": "stream",
     "text": [
      "Requirement already satisfied: numba in /Users/amelieschreiber/anaconda3/lib/python3.7/site-packages (0.44.1)\n",
      "Requirement already satisfied: llvmlite>=0.29.0 in /Users/amelieschreiber/anaconda3/lib/python3.7/site-packages (from numba) (0.29.0)\n",
      "Requirement already satisfied: numpy in /Users/amelieschreiber/anaconda3/lib/python3.7/site-packages (from numba) (1.16.4)\n",
      "Note: you may need to restart the kernel to use updated packages.\n"
     ]
    }
   ],
   "source": [
    "pip install numba"
   ]
  },
  {
   "cell_type": "code",
   "execution_count": 3,
   "metadata": {},
   "outputs": [
    {
     "name": "stdout",
     "output_type": "stream",
     "text": [
      "Requirement already satisfied: scipy in /Users/amelieschreiber/anaconda3/lib/python3.7/site-packages (1.3.0)\n",
      "Note: you may need to restart the kernel to use updated packages.\n"
     ]
    }
   ],
   "source": [
    "pip install scipy"
   ]
  },
  {
   "cell_type": "code",
   "execution_count": 4,
   "metadata": {},
   "outputs": [
    {
     "name": "stdout",
     "output_type": "stream",
     "text": [
      "Requirement already satisfied: numpy in /Users/amelieschreiber/anaconda3/lib/python3.7/site-packages (1.16.4)\n",
      "Note: you may need to restart the kernel to use updated packages.\n"
     ]
    }
   ],
   "source": [
    "pip install numpy"
   ]
  },
  {
   "cell_type": "code",
   "execution_count": 5,
   "metadata": {},
   "outputs": [
    {
     "name": "stdout",
     "output_type": "stream",
     "text": [
      "Requirement already satisfied: cytoolz in /Users/amelieschreiber/anaconda3/lib/python3.7/site-packages (0.10.0)\n",
      "Requirement already satisfied: toolz>=0.8.0 in /Users/amelieschreiber/anaconda3/lib/python3.7/site-packages (from cytoolz) (0.10.0)\n",
      "Note: you may need to restart the kernel to use updated packages.\n"
     ]
    }
   ],
   "source": [
    "pip install cytoolz"
   ]
  },
  {
   "cell_type": "code",
   "execution_count": 6,
   "metadata": {},
   "outputs": [
    {
     "name": "stdout",
     "output_type": "stream",
     "text": [
      "Requirement already satisfied: tqdm in /Users/amelieschreiber/anaconda3/lib/python3.7/site-packages (4.32.1)\n",
      "Note: you may need to restart the kernel to use updated packages.\n"
     ]
    }
   ],
   "source": [
    "pip install tqdm"
   ]
  },
  {
   "cell_type": "code",
   "execution_count": 7,
   "metadata": {},
   "outputs": [
    {
     "name": "stdout",
     "output_type": "stream",
     "text": [
      "Requirement already satisfied: psutil in /Users/amelieschreiber/anaconda3/lib/python3.7/site-packages (5.6.3)\n",
      "Note: you may need to restart the kernel to use updated packages.\n"
     ]
    }
   ],
   "source": [
    "pip install psutil"
   ]
  },
  {
   "cell_type": "code",
   "execution_count": 8,
   "metadata": {},
   "outputs": [
    {
     "name": "stdout",
     "output_type": "stream",
     "text": [
      "Requirement already satisfied: opt_einsum in /Users/amelieschreiber/anaconda3/lib/python3.7/site-packages (3.1.0)\n",
      "Requirement already satisfied: numpy>=1.7 in /Users/amelieschreiber/anaconda3/lib/python3.7/site-packages (from opt_einsum) (1.16.4)\n",
      "Note: you may need to restart the kernel to use updated packages.\n"
     ]
    }
   ],
   "source": [
    "pip install opt_einsum"
   ]
  },
  {
   "cell_type": "code",
   "execution_count": 9,
   "metadata": {},
   "outputs": [
    {
     "name": "stdout",
     "output_type": "stream",
     "text": [
      "Requirement already satisfied: autoray in /Users/amelieschreiber/anaconda3/lib/python3.7/site-packages (0.1.1)\n",
      "Requirement already satisfied: numpy in /Users/amelieschreiber/anaconda3/lib/python3.7/site-packages (from autoray) (1.16.4)\n",
      "Note: you may need to restart the kernel to use updated packages.\n"
     ]
    }
   ],
   "source": [
    "pip install autoray"
   ]
  },
  {
   "cell_type": "code",
   "execution_count": 10,
   "metadata": {},
   "outputs": [
    {
     "name": "stdout",
     "output_type": "stream",
     "text": [
      "Requirement already satisfied: matplotlib in /Users/amelieschreiber/anaconda3/lib/python3.7/site-packages (3.1.0)\n",
      "Requirement already satisfied: cycler>=0.10 in /Users/amelieschreiber/anaconda3/lib/python3.7/site-packages (from matplotlib) (0.10.0)\n",
      "Requirement already satisfied: kiwisolver>=1.0.1 in /Users/amelieschreiber/anaconda3/lib/python3.7/site-packages (from matplotlib) (1.1.0)\n",
      "Requirement already satisfied: pyparsing!=2.0.4,!=2.1.2,!=2.1.6,>=2.0.1 in /Users/amelieschreiber/anaconda3/lib/python3.7/site-packages (from matplotlib) (2.4.0)\n",
      "Requirement already satisfied: python-dateutil>=2.1 in /Users/amelieschreiber/anaconda3/lib/python3.7/site-packages (from matplotlib) (2.8.0)\n",
      "Requirement already satisfied: numpy>=1.11 in /Users/amelieschreiber/anaconda3/lib/python3.7/site-packages (from matplotlib) (1.16.4)\n",
      "Requirement already satisfied: six in /Users/amelieschreiber/anaconda3/lib/python3.7/site-packages (from cycler>=0.10->matplotlib) (1.12.0)\n",
      "Requirement already satisfied: setuptools in /Users/amelieschreiber/anaconda3/lib/python3.7/site-packages (from kiwisolver>=1.0.1->matplotlib) (41.0.1)\n",
      "Note: you may need to restart the kernel to use updated packages.\n"
     ]
    }
   ],
   "source": [
    "pip install matplotlib"
   ]
  },
  {
   "cell_type": "code",
   "execution_count": 11,
   "metadata": {},
   "outputs": [
    {
     "name": "stdout",
     "output_type": "stream",
     "text": [
      "Requirement already satisfied: networkx in /Users/amelieschreiber/anaconda3/lib/python3.7/site-packages (2.3)\n",
      "Requirement already satisfied: decorator>=4.3.0 in /Users/amelieschreiber/anaconda3/lib/python3.7/site-packages (from networkx) (4.4.0)\n",
      "Note: you may need to restart the kernel to use updated packages.\n"
     ]
    }
   ],
   "source": [
    "pip install networkx"
   ]
  },
  {
   "cell_type": "code",
   "execution_count": 12,
   "metadata": {},
   "outputs": [],
   "source": [
    "import quimb as qu\n",
    "from quimb import *\n",
    "import quimb.tensor as qtn\n",
    "import numpy as np"
   ]
  },
  {
   "cell_type": "markdown",
   "metadata": {},
   "source": [
    "## Basic Operations\n",
    "The $\\dagger$ (‘dagger’), or hermitian conjugate, operation is performed with the .H attribute:"
   ]
  },
  {
   "cell_type": "code",
   "execution_count": 13,
   "metadata": {},
   "outputs": [
    {
     "name": "stdout",
     "output_type": "stream",
     "text": [
      "[[ 0.+0.j      ]\n",
      " [ 0.+0.707107j]\n",
      " [-0.-0.707107j]\n",
      " [ 0.+0.j      ]]\n"
     ]
    }
   ],
   "source": [
    "psi = 1.0j * bell_state('psi-')\n",
    "print(psi)"
   ]
  },
  {
   "cell_type": "code",
   "execution_count": 14,
   "metadata": {},
   "outputs": [
    {
     "data": {
      "text/plain": [
       "[[ 0.-0.j        0.-0.707107j -0.+0.707107j  0.-0.j      ]]"
      ]
     },
     "execution_count": 14,
     "metadata": {},
     "output_type": "execute_result"
    }
   ],
   "source": [
    "psi.H"
   ]
  },
  {
   "cell_type": "markdown",
   "metadata": {},
   "source": [
    "This takes the ket-vector to a bra-vector:\n",
    "\n",
    "$ | \\psi \\rangle \\mapsto \\langle \\psi | $\n",
    "\n",
    "Numerically, this is just the complex conjugate of the column vector $| \\psi \\rangle$:\n",
    "\n",
    "$\\begin{pmatrix}0\\\\ 0.707107j\\\\ -0.707107j\\\\  0 \\end{pmatrix} \\mapsto \\begin{pmatrix}0,\\ -0.707107j,\\ 0.707107j,\\  0 \\end{pmatrix}$"
   ]
  },
  {
   "cell_type": "markdown",
   "metadata": {},
   "source": [
    "This can also be performed on operators of course, where it is typically referred to as the Hermitian conjugate (denoted by $\\dagger$), and is given by the complex conjugate of the transpose of the matrix representing the operator:"
   ]
  },
  {
   "cell_type": "code",
   "execution_count": 15,
   "metadata": {},
   "outputs": [
    {
     "name": "stdout",
     "output_type": "stream",
     "text": [
      "[[ 0. +0.j  0. +0.j -0. +0.j  0. +0.j]\n",
      " [ 0. +0.j  0.5+0.j -0.5+0.j  0. +0.j]\n",
      " [ 0. -0.j -0.5-0.j  0.5+0.j  0. -0.j]\n",
      " [ 0. +0.j  0. +0.j -0. +0.j  0. +0.j]]\n"
     ]
    }
   ],
   "source": [
    "psi_op = qu(psi, qtype='dop')\n",
    "print(psi_op)"
   ]
  },
  {
   "cell_type": "code",
   "execution_count": 16,
   "metadata": {},
   "outputs": [
    {
     "data": {
      "text/plain": [
       "[[ 0. -0.j  0. -0.j  0. +0.j  0. -0.j]\n",
       " [ 0. -0.j  0.5-0.j -0.5+0.j  0. -0.j]\n",
       " [-0. -0.j -0.5-0.j  0.5-0.j -0. -0.j]\n",
       " [ 0. -0.j  0. -0.j  0. +0.j  0. -0.j]]"
      ]
     },
     "execution_count": 16,
     "metadata": {},
     "output_type": "execute_result"
    }
   ],
   "source": [
    "psi_op.H"
   ]
  },
  {
   "cell_type": "markdown",
   "metadata": {},
   "source": [
    "This takes the operator $ U = |\\psi \\rangle \\langle \\psi |$ to the operator $U^{\\dagger}$\n",
    "\n",
    "This is just the combination of ```.conj()``` and ```.T```, but only available for ```scipy.sparse``` matrices and ```qarray```s (not ```numpy.ndarray```s).\n",
    "\n",
    "The product of two quantum objects is the dot or matrix product, which, since python 3.5, has been overloaded with the ```@``` symbol. Using it is recommended:"
   ]
  },
  {
   "cell_type": "code",
   "execution_count": 17,
   "metadata": {},
   "outputs": [
    {
     "data": {
      "text/plain": [
       "[[1.+0.j]\n",
       " [0.+0.j]]"
      ]
     },
     "execution_count": 17,
     "metadata": {},
     "output_type": "execute_result"
    }
   ],
   "source": [
    "psi = up() #spin-up single qubit\n",
    "psi"
   ]
  },
  {
   "cell_type": "code",
   "execution_count": 18,
   "metadata": {},
   "outputs": [
    {
     "data": {
      "text/plain": [
       "[[1.+0.j]]"
      ]
     },
     "execution_count": 18,
     "metadata": {},
     "output_type": "execute_result"
    }
   ],
   "source": [
    "psi.H @ psi  # inner product"
   ]
  },
  {
   "cell_type": "code",
   "execution_count": 19,
   "metadata": {},
   "outputs": [
    {
     "data": {
      "text/plain": [
       "[[0.+0.j]\n",
       " [1.+0.j]]"
      ]
     },
     "execution_count": 19,
     "metadata": {},
     "output_type": "execute_result"
    }
   ],
   "source": [
    "X = pauli('X')\n",
    "X @ psi  # act as gate"
   ]
  },
  {
   "cell_type": "code",
   "execution_count": 20,
   "metadata": {},
   "outputs": [
    {
     "data": {
      "text/plain": [
       "[[0.+0.j]]"
      ]
     },
     "execution_count": 20,
     "metadata": {},
     "output_type": "execute_result"
    }
   ],
   "source": [
    "psi.H @ X @ psi  # operator expectation"
   ]
  },
  {
   "cell_type": "markdown",
   "metadata": {},
   "source": [
    "Scalar expectation values might best be computed using the ```expectation()``` function (aliased to ```expec()```) which dispatches to accelerated methods:"
   ]
  },
  {
   "cell_type": "code",
   "execution_count": 21,
   "metadata": {},
   "outputs": [
    {
     "data": {
      "text/plain": [
       "1.0"
      ]
     },
     "execution_count": 21,
     "metadata": {},
     "output_type": "execute_result"
    }
   ],
   "source": [
    "expec(psi, psi)"
   ]
  },
  {
   "cell_type": "code",
   "execution_count": 22,
   "metadata": {},
   "outputs": [
    {
     "data": {
      "text/plain": [
       "0j"
      ]
     },
     "execution_count": 22,
     "metadata": {},
     "output_type": "execute_result"
    }
   ],
   "source": [
    "expec(psi, X)"
   ]
  },
  {
   "cell_type": "markdown",
   "metadata": {},
   "source": [
    "Here’s an example for a much larger (20 qubit), sparse operator expecation, which will be **automatically parallelized**:"
   ]
  },
  {
   "cell_type": "code",
   "execution_count": 23,
   "metadata": {},
   "outputs": [
    {
     "data": {
      "text/plain": [
       "<1048576x1048576 sparse matrix of type '<class 'numpy.complex128'>'\n",
       "\twith 11534278 stored elements in Compressed Sparse Row format>"
      ]
     },
     "execution_count": 23,
     "metadata": {},
     "output_type": "execute_result"
    }
   ],
   "source": [
    "psi = rand_ket(2**20)\n",
    "A = rand_herm(2**20, sparse=True) + speye(2**20)\n",
    "A"
   ]
  },
  {
   "cell_type": "code",
   "execution_count": 24,
   "metadata": {},
   "outputs": [
    {
     "name": "stderr",
     "output_type": "stream",
     "text": [
      "/Users/amelieschreiber/anaconda3/lib/python3.7/site-packages/quimb/core.py:508: NumbaWarning: \u001b[1mCannot cache compiled function \"_dot_csr_matvec_prange\" as it uses dynamic globals (such as ctypes pointers and large global arrays)\u001b[0m\n",
      "  @njit(parallel=True)  # pragma: no cover\n"
     ]
    },
    {
     "data": {
      "text/plain": [
       "0.9993532985313052"
      ]
     },
     "execution_count": 24,
     "metadata": {},
     "output_type": "execute_result"
    }
   ],
   "source": [
    "expec(A, psi)  # should be ~ 1"
   ]
  },
  {
   "cell_type": "code",
   "execution_count": 25,
   "metadata": {},
   "outputs": [
    {
     "name": "stdout",
     "output_type": "stream",
     "text": [
      "165 ms ± 14.6 ms per loop (mean ± std. dev. of 7 runs, 1 loop each)\n"
     ]
    }
   ],
   "source": [
    "%%timeit\n",
    "expec(A, psi)"
   ]
  },
  {
   "cell_type": "markdown",
   "metadata": {},
   "source": [
    "## Combining Objects - Tensoring\n",
    "\n",
    "There are a number of ways to combine states and operators, i.e. tensoring them together.\n",
    "\n",
    "Functional form using kron():\n",
    "\n",
    "```\n",
    "kron(psi1, psi2, psi3, ...)\n",
    "```\n",
    "\n",
    "This can also be done using the & overload on qarray and scipy matrices:\n",
    "\n",
    "```\n",
    "psi1 & psi2 & psi3\n",
    "```\n",
    "\n",
    "### Warning\n",
    "\n",
    "When quimb is imported, it monkey patches the otherwise unused method of ```&/__and__``` of scipy sparse matrices to ```kron()```.\n",
    "\n",
    "Often one wants to sandwich an operator with many identities, ```ikron()``` can be used for this:"
   ]
  },
  {
   "cell_type": "code",
   "execution_count": 26,
   "metadata": {},
   "outputs": [
    {
     "name": "stderr",
     "output_type": "stream",
     "text": [
      "/Users/amelieschreiber/anaconda3/lib/python3.7/site-packages/quimb/core.py:739: NumbaWarning: \u001b[1mCannot cache compiled function \"_nb_kron_exp_par\" as it uses dynamic globals (such as ctypes pointers and large global arrays)\u001b[0m\n",
      "  @njit(parallel=True)\n"
     ]
    },
    {
     "data": {
      "text/plain": [
       "(1024, 1024)"
      ]
     },
     "execution_count": 26,
     "metadata": {},
     "output_type": "execute_result"
    }
   ],
   "source": [
    "dims = [2] * 10  # overall space of 10 qubits\n",
    "X = pauli('X')\n",
    "IIIXXIIIII = ikron(X, dims, inds=[3, 4])  # act on 4th and 5th spin only\n",
    "IIIXXIIIII.shape"
   ]
  },
  {
   "cell_type": "markdown",
   "metadata": {},
   "source": [
    "For more advanced tensor constructions, such as reversing and interleaving identities within operators ```pkron()``` can be used:"
   ]
  },
  {
   "cell_type": "code",
   "execution_count": 27,
   "metadata": {},
   "outputs": [
    {
     "data": {
      "text/plain": [
       "[[ 0  1  0  0  0  0  0  0]\n",
       " [ 1  0  0  0  0  0  0  0]\n",
       " [ 0  0  0  1  0  0  0  0]\n",
       " [ 0  0  1  0  0  0  0  0]\n",
       " [ 0  0  0  0  0 -1  0  0]\n",
       " [ 0  0  0  0 -1  0  0  0]\n",
       " [ 0  0  0  0  0  0  0 -1]\n",
       " [ 0  0  0  0  0  0 -1  0]]"
      ]
     },
     "execution_count": 27,
     "metadata": {},
     "output_type": "execute_result"
    }
   ],
   "source": [
    "dims = [2] * 3\n",
    "XZ = pauli('X') & pauli('Z')\n",
    "ZIX = pkron(XZ, dims, inds=[2, 0])\n",
    "ZIX.real.astype(int)"
   ]
  },
  {
   "cell_type": "markdown",
   "metadata": {},
   "source": [
    "$ZIX = Z \\otimes I \\otimes X$ would then act with Z on first spin, and X on 3rd."
   ]
  },
  {
   "cell_type": "markdown",
   "metadata": {},
   "source": [
    "## Removing Objects - Partial Trace\n",
    "To remove, or ignore, certain parts of a quantum state the partial trace function ```partial_trace()``` (aliased to ```ptr()```) is used. Here, the internal dimensions of a state must be supplied as well as the indicies of which of these subsystems to keep.\n",
    "\n",
    "For example, if we have a random system of 10 qubits (hilbert space of dimension $2^{10}$), and we want just the reduced density matrix describing the first and last spins:"
   ]
  },
  {
   "cell_type": "code",
   "execution_count": 28,
   "metadata": {},
   "outputs": [
    {
     "data": {
      "text/plain": [
       "[[ 0.241+0.j     0.002-0.009j -0.008-0.003j  0.002-0.01j ]\n",
       " [ 0.002+0.009j  0.234+0.j     0.01 +0.012j  0.003+0.001j]\n",
       " [-0.008+0.003j  0.01 -0.012j  0.265+0.j    -0.002+0.007j]\n",
       " [ 0.002+0.01j   0.003-0.001j -0.002-0.007j  0.26 +0.j   ]]"
      ]
     },
     "execution_count": 28,
     "metadata": {},
     "output_type": "execute_result"
    }
   ],
   "source": [
    "dims = [2] * 10\n",
    "D = prod(dims)\n",
    "psi = rand_ket(D)\n",
    "rho_ab = ptr(psi, dims, [0, 9])\n",
    "rho_ab.round(3)  # probably pretty close to identity"
   ]
  },
  {
   "cell_type": "markdown",
   "metadata": {},
   "source": [
    "```partial_trace()``` accepts dense or sparse, operators or vectors."
   ]
  },
  {
   "cell_type": "code",
   "execution_count": null,
   "metadata": {},
   "outputs": [],
   "source": []
  }
 ],
 "metadata": {
  "kernelspec": {
   "display_name": "Python 3",
   "language": "python",
   "name": "python3"
  },
  "language_info": {
   "codemirror_mode": {
    "name": "ipython",
    "version": 3
   },
   "file_extension": ".py",
   "mimetype": "text/x-python",
   "name": "python",
   "nbconvert_exporter": "python",
   "pygments_lexer": "ipython3",
   "version": "3.7.3"
  }
 },
 "nbformat": 4,
 "nbformat_minor": 4
}
