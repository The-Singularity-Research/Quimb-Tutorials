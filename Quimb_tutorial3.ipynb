{
 "cells": [
  {
   "cell_type": "markdown",
   "metadata": {},
   "source": [
    "# Built-in & Random States & Operators"
   ]
  },
  {
   "cell_type": "code",
   "execution_count": 1,
   "metadata": {},
   "outputs": [
    {
     "name": "stdout",
     "output_type": "stream",
     "text": [
      "Requirement already satisfied: quimb in /Users/amelieschreiber/anaconda3/lib/python3.7/site-packages (1.2.0)\n",
      "Requirement already satisfied: tqdm>=4 in /Users/amelieschreiber/anaconda3/lib/python3.7/site-packages (from quimb) (4.32.1)\n",
      "Requirement already satisfied: psutil>=4.3.1 in /Users/amelieschreiber/anaconda3/lib/python3.7/site-packages (from quimb) (5.6.3)\n",
      "Requirement already satisfied: numba>=0.39 in /Users/amelieschreiber/anaconda3/lib/python3.7/site-packages (from quimb) (0.44.1)\n",
      "Requirement already satisfied: cytoolz>=0.8.0 in /Users/amelieschreiber/anaconda3/lib/python3.7/site-packages (from quimb) (0.10.0)\n",
      "Requirement already satisfied: scipy>=1.0.0 in /Users/amelieschreiber/anaconda3/lib/python3.7/site-packages (from quimb) (1.3.0)\n",
      "Requirement already satisfied: numpy>=1.12 in /Users/amelieschreiber/anaconda3/lib/python3.7/site-packages (from quimb) (1.16.4)\n",
      "Requirement already satisfied: opt-einsum>=2 in /Users/amelieschreiber/anaconda3/lib/python3.7/site-packages (from quimb) (3.1.0)\n",
      "Requirement already satisfied: autoray>=0.1 in /Users/amelieschreiber/anaconda3/lib/python3.7/site-packages (from quimb) (0.1.1)\n",
      "Requirement already satisfied: llvmlite>=0.29.0 in /Users/amelieschreiber/anaconda3/lib/python3.7/site-packages (from numba>=0.39->quimb) (0.29.0)\n",
      "Requirement already satisfied: toolz>=0.8.0 in /Users/amelieschreiber/anaconda3/lib/python3.7/site-packages (from cytoolz>=0.8.0->quimb) (0.10.0)\n",
      "Note: you may need to restart the kernel to use updated packages.\n"
     ]
    }
   ],
   "source": [
    "pip install quimb"
   ]
  },
  {
   "cell_type": "code",
   "execution_count": 2,
   "metadata": {},
   "outputs": [
    {
     "name": "stdout",
     "output_type": "stream",
     "text": [
      "Requirement already satisfied: numba in /Users/amelieschreiber/anaconda3/lib/python3.7/site-packages (0.44.1)\n",
      "Requirement already satisfied: llvmlite>=0.29.0 in /Users/amelieschreiber/anaconda3/lib/python3.7/site-packages (from numba) (0.29.0)\n",
      "Requirement already satisfied: numpy in /Users/amelieschreiber/anaconda3/lib/python3.7/site-packages (from numba) (1.16.4)\n",
      "Note: you may need to restart the kernel to use updated packages.\n"
     ]
    }
   ],
   "source": [
    "pip install numba"
   ]
  },
  {
   "cell_type": "code",
   "execution_count": 3,
   "metadata": {},
   "outputs": [
    {
     "name": "stdout",
     "output_type": "stream",
     "text": [
      "Requirement already satisfied: scipy in /Users/amelieschreiber/anaconda3/lib/python3.7/site-packages (1.3.0)\n",
      "Note: you may need to restart the kernel to use updated packages.\n"
     ]
    }
   ],
   "source": [
    "pip install scipy"
   ]
  },
  {
   "cell_type": "code",
   "execution_count": 4,
   "metadata": {},
   "outputs": [
    {
     "name": "stdout",
     "output_type": "stream",
     "text": [
      "Requirement already satisfied: numpy in /Users/amelieschreiber/anaconda3/lib/python3.7/site-packages (1.16.4)\n",
      "Note: you may need to restart the kernel to use updated packages.\n"
     ]
    }
   ],
   "source": [
    "pip install numpy"
   ]
  },
  {
   "cell_type": "code",
   "execution_count": 5,
   "metadata": {},
   "outputs": [
    {
     "name": "stdout",
     "output_type": "stream",
     "text": [
      "Requirement already satisfied: cytoolz in /Users/amelieschreiber/anaconda3/lib/python3.7/site-packages (0.10.0)\n",
      "Requirement already satisfied: toolz>=0.8.0 in /Users/amelieschreiber/anaconda3/lib/python3.7/site-packages (from cytoolz) (0.10.0)\n",
      "Note: you may need to restart the kernel to use updated packages.\n"
     ]
    }
   ],
   "source": [
    "pip install cytoolz"
   ]
  },
  {
   "cell_type": "code",
   "execution_count": null,
   "metadata": {},
   "outputs": [
    {
     "name": "stdout",
     "output_type": "stream",
     "text": [
      "Requirement already satisfied: tqdm in /Users/amelieschreiber/anaconda3/lib/python3.7/site-packages (4.32.1)\n"
     ]
    }
   ],
   "source": [
    "pip install tqdm"
   ]
  },
  {
   "cell_type": "code",
   "execution_count": null,
   "metadata": {},
   "outputs": [],
   "source": [
    "pip install psutil"
   ]
  },
  {
   "cell_type": "code",
   "execution_count": null,
   "metadata": {},
   "outputs": [],
   "source": [
    "pip install opt_einsum"
   ]
  },
  {
   "cell_type": "code",
   "execution_count": null,
   "metadata": {},
   "outputs": [],
   "source": [
    "pip install autoray"
   ]
  },
  {
   "cell_type": "code",
   "execution_count": null,
   "metadata": {},
   "outputs": [],
   "source": [
    "pip install matplotlib"
   ]
  },
  {
   "cell_type": "code",
   "execution_count": null,
   "metadata": {},
   "outputs": [],
   "source": [
    "pip install networkx"
   ]
  },
  {
   "cell_type": "code",
   "execution_count": null,
   "metadata": {},
   "outputs": [],
   "source": [
    "import quimb as qu\n",
    "from quimb import *\n",
    "import quimb.tensor as qtn\n",
    "import numpy as np"
   ]
  },
  {
   "cell_type": "code",
   "execution_count": null,
   "metadata": {},
   "outputs": [],
   "source": [
    "up()"
   ]
  },
  {
   "cell_type": "markdown",
   "metadata": {},
   "source": [
    "This returns the spin-up state, a.k.a \n",
    "\n",
    "$| 0 \\rangle = \\begin{pmatrix} 1 \\\\ 0 \\end{pmatrix}$, \n",
    "\n",
    "the $+Z$-eigenstate, where \n",
    "\n",
    "$Z = \\begin{pmatrix} 1 & 0 \\\\ 0 & -1 \\end{pmatrix} = -iXY$\n",
    "\n",
    "is the Pauli-Z operator. Recall, the Pauli operators are:"
   ]
  },
  {
   "cell_type": "code",
   "execution_count": null,
   "metadata": {},
   "outputs": [],
   "source": [
    "X = pauli('X')\n",
    "Y = pauli('Y')\n",
    "Z = pauli('Z')\n",
    "print(X)\n",
    "print(Y)\n",
    "print(Z)"
   ]
  },
  {
   "cell_type": "markdown",
   "metadata": {},
   "source": [
    "$ X = \\begin{pmatrix} 0 & 1 \\\\ 1 & 0 \\end{pmatrix}$ \n",
    "\n",
    "$Y = \\begin{pmatrix} 0 & -i \\\\ i & 0 \\end{pmatrix}$ \n",
    "\n",
    "$Z = \\begin{pmatrix} 1 & 0 \\\\ 0 & -1 \\end{pmatrix}$ \n",
    "\n",
    "$I = \\begin{pmatrix}1 & 0 \\\\ 0 & 1 \\end{pmatrix}$\n",
    "\n",
    "Now, let's look at the spin-down state vector ```down()```$= | 1 \\rangle = \\begin{pmatrix} 0 \\\\ 1 \\end{pmatrix}$"
   ]
  },
  {
   "cell_type": "code",
   "execution_count": null,
   "metadata": {},
   "outputs": [],
   "source": [
    "down()"
   ]
  },
  {
   "cell_type": "markdown",
   "metadata": {},
   "source": [
    "This is the $-1$-eigenstate of the Pauli-Z operator. The $+1$-eigenstate of the Pauli-Y operator is:\n",
    "\n",
    "```yplus()```$= |y+ \\rangle = \\frac{1}{\\sqrt{2}}\\begin{pmatrix}1 \\\\ i \\end{pmatrix}$"
   ]
  },
  {
   "cell_type": "code",
   "execution_count": null,
   "metadata": {},
   "outputs": [],
   "source": [
    "yplus()"
   ]
  },
  {
   "cell_type": "markdown",
   "metadata": {},
   "source": [
    "The $-1$-eigenstate of the Pauli-Y operator is:\n",
    "\n",
    "```yminus()```$= |y-\\rangle = \\frac{1}{\\sqrt{2}}\\begin{pmatrix}1 \\\\ -i \\end{pmatrix}$"
   ]
  },
  {
   "cell_type": "code",
   "execution_count": null,
   "metadata": {},
   "outputs": [],
   "source": [
    "yminus()"
   ]
  },
  {
   "cell_type": "markdown",
   "metadata": {},
   "source": [
    "Finally, the $+1$-eigenstate of the Pauli-X operator is:\n",
    "\n",
    "```xplus()```$=|+ \\rangle = \\frac{1}{\\sqrt{2}}\\begin{pmatrix}1 \\\\ 1 \\end{pmatrix}$"
   ]
  },
  {
   "cell_type": "code",
   "execution_count": null,
   "metadata": {},
   "outputs": [],
   "source": [
    "xplus()"
   ]
  },
  {
   "cell_type": "markdown",
   "metadata": {},
   "source": [
    "The $-1$-eigenstate of the Pauli-X operator is:\n",
    "\n",
    "```xminus()```$=|- \\rangle = \\frac{1}{\\sqrt{2}}\\begin{pmatrix} 1 \\\\ -1 \\end{pmatrix}$"
   ]
  },
  {
   "cell_type": "code",
   "execution_count": null,
   "metadata": {},
   "outputs": [],
   "source": [
    "xminus()"
   ]
  },
  {
   "cell_type": "code",
   "execution_count": null,
   "metadata": {},
   "outputs": [],
   "source": []
  }
 ],
 "metadata": {
  "kernelspec": {
   "display_name": "Python 3",
   "language": "python",
   "name": "python3"
  },
  "language_info": {
   "codemirror_mode": {
    "name": "ipython",
    "version": 3
   },
   "file_extension": ".py",
   "mimetype": "text/x-python",
   "name": "python",
   "nbconvert_exporter": "python",
   "pygments_lexer": "ipython3",
   "version": "3.7.3"
  }
 },
 "nbformat": 4,
 "nbformat_minor": 4
}
