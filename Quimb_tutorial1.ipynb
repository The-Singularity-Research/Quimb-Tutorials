{
 "cells": [
  {
   "cell_type": "markdown",
   "metadata": {},
   "source": [
    "# Tutorial 1: Bras, Kets, and Operators"
   ]
  },
  {
   "cell_type": "code",
   "execution_count": null,
   "metadata": {},
   "outputs": [],
   "source": [
    "pip install quimb"
   ]
  },
  {
   "cell_type": "code",
   "execution_count": null,
   "metadata": {},
   "outputs": [],
   "source": [
    "pip install numba"
   ]
  },
  {
   "cell_type": "code",
   "execution_count": null,
   "metadata": {},
   "outputs": [],
   "source": [
    "pip install scipy"
   ]
  },
  {
   "cell_type": "code",
   "execution_count": null,
   "metadata": {},
   "outputs": [],
   "source": [
    "pip install numpy"
   ]
  },
  {
   "cell_type": "code",
   "execution_count": null,
   "metadata": {},
   "outputs": [],
   "source": [
    "pip install cytoolz"
   ]
  },
  {
   "cell_type": "code",
   "execution_count": null,
   "metadata": {},
   "outputs": [],
   "source": [
    "pip install tqdm"
   ]
  },
  {
   "cell_type": "code",
   "execution_count": null,
   "metadata": {},
   "outputs": [],
   "source": [
    "pip install psutil"
   ]
  },
  {
   "cell_type": "code",
   "execution_count": null,
   "metadata": {},
   "outputs": [],
   "source": [
    "pip install opt_einsum"
   ]
  },
  {
   "cell_type": "code",
   "execution_count": null,
   "metadata": {},
   "outputs": [],
   "source": [
    "pip install autoray"
   ]
  },
  {
   "cell_type": "code",
   "execution_count": null,
   "metadata": {},
   "outputs": [],
   "source": [
    "pip install matplotlib"
   ]
  },
  {
   "cell_type": "code",
   "execution_count": null,
   "metadata": {},
   "outputs": [],
   "source": [
    "pip install networkx"
   ]
  },
  {
   "cell_type": "code",
   "execution_count": null,
   "metadata": {},
   "outputs": [],
   "source": [
    "import quimb as qu\n",
    "from quimb import *\n",
    "import quimb.tensor as qtn\n",
    "import numpy as np"
   ]
  },
  {
   "cell_type": "markdown",
   "metadata": {},
   "source": [
    "## Basic Representation\n",
    "States and operators in quimb are simply dense numpy arrays or sparse scipy matrices. All functions should directly work with these but the class qarray is also provided as a very thin subclass of numpy.ndarray with a few helpful methods and attributes. The quimbify() function (aliased to qu()) can convert between the various representations."
   ]
  },
  {
   "cell_type": "code",
   "execution_count": null,
   "metadata": {},
   "outputs": [],
   "source": [
    "# Define a 1-dimensional array\n",
    "array = [1-5j, 2j, -3]"
   ]
  },
  {
   "cell_type": "markdown",
   "metadata": {},
   "source": [
    "Kets are column vectors, i.e. they have shape (d, 1):"
   ]
  },
  {
   "cell_type": "code",
   "execution_count": null,
   "metadata": {},
   "outputs": [],
   "source": [
    "# Use the 'qu' function to turn it into a ket-vector, i.e. a column vector\n",
    "ket_vec = qu(array, qtype='ket')\n",
    "print(ket_vec)"
   ]
  },
  {
   "cell_type": "markdown",
   "metadata": {},
   "source": [
    "This is the column vector:\n",
    "\n",
    "$| \\psi \\rangle = \\begin{pmatrix} 1-5j \\\\ 2j \\\\ -3 \\end{pmatrix}$"
   ]
  },
  {
   "cell_type": "markdown",
   "metadata": {},
   "source": [
    "The normalized=True option can be used to ensure a normalized output."
   ]
  },
  {
   "cell_type": "code",
   "execution_count": null,
   "metadata": {},
   "outputs": [],
   "source": [
    "v = qu(array, qtype='ket', normalized=True)\n",
    "print(v)"
   ]
  },
  {
   "cell_type": "markdown",
   "metadata": {},
   "source": [
    "This prints the ket-vector:\n",
    "\n",
    "$v = \\begin{pmatrix} 0.160128-0.800641j \\\\ 0.+0.320256j \\\\ -0.480384 \\end{pmatrix}$\n",
    "\n",
    "We can check that the norm of the vector is indeed equal to 1:\n",
    "\n",
    "$ ||v|| = \\big|\\langle v^*, v \\rangle \\big| \\sqrt{ \\sum_{i=0}^2 \\overline{v_i} v_i } = 1$"
   ]
  },
  {
   "cell_type": "code",
   "execution_count": null,
   "metadata": {},
   "outputs": [],
   "source": [
    "# Compute the norm of the complex vector 'v'\n",
    "np.linalg.norm(v)"
   ]
  },
  {
   "cell_type": "markdown",
   "metadata": {},
   "source": [
    "Bras are row vectors, i.e. they have shape (1, d):"
   ]
  },
  {
   "cell_type": "code",
   "execution_count": null,
   "metadata": {},
   "outputs": [],
   "source": [
    "bra_vec = qu(array, qtype='bra')  # also conjugates the ket-vector 'v' to a row vector\n",
    "print(bra_vec)"
   ]
  },
  {
   "cell_type": "markdown",
   "metadata": {},
   "source": [
    "This is the row vector:\n",
    "\n",
    "$\\langle \\psi | = \\begin{pmatrix} 1+5j,\\ -2j,\\ -3 \\end{pmatrix}$"
   ]
  },
  {
   "cell_type": "markdown",
   "metadata": {},
   "source": [
    "We can also normalize the bra-vectors:"
   ]
  },
  {
   "cell_type": "code",
   "execution_count": null,
   "metadata": {},
   "outputs": [],
   "source": [
    "v_dual = qu(array, qtype='bra', normalized=True)\n",
    "print(v_dual)"
   ]
  },
  {
   "cell_type": "markdown",
   "metadata": {},
   "source": [
    "So we get:\n",
    "\n",
    "$v^* = \\begin{pmatrix} 0.160128+0.800641j,\\ -0.320256j,\\ -0.480384 \\end{pmatrix}$\n",
    "\n",
    "Computing the norm of the dual vector $v^*$ we get:\n",
    "\n",
    "$||v^*|| = \\big|\\langle v^*, v \\rangle \\big| = \\sqrt{ \\sum_{i=0}^2 \\overline{v_i}v_i } = 1$"
   ]
  },
  {
   "cell_type": "code",
   "execution_count": null,
   "metadata": {},
   "outputs": [],
   "source": [
    "# Compute the norm of the complex bra-vector 'dual_v'\n",
    "np.linalg.norm(v)"
   ]
  },
  {
   "cell_type": "markdown",
   "metadata": {},
   "source": [
    "Operators are square matrices, i.e. have shape (d, d):"
   ]
  },
  {
   "cell_type": "code",
   "execution_count": null,
   "metadata": {},
   "outputs": [],
   "source": [
    "operator = qu(array, qtype='dop')\n",
    "print(operator)"
   ]
  },
  {
   "cell_type": "markdown",
   "metadata": {},
   "source": [
    "This is actualy given by the outer product:\n",
    "\n",
    "$| \\psi \\rangle \\langle \\psi | = \\begin{pmatrix} 1+5j\\\\  -2j\\\\ -3 \\end{pmatrix} \\begin{pmatrix} 1+5j,\\  -2j,\\ -3 \\end{pmatrix} = \\begin{pmatrix} 26 & -10 -2j &  -3+15j \\\\ -10+2j & 4 & -6j \\\\ -3-15j & 6j & 9 \\end{pmatrix}$"
   ]
  },
  {
   "cell_type": "markdown",
   "metadata": {},
   "source": [
    "We can obtain a unitary operator by using the normalized vector $v$ and computing $v \\otimes v^*$, or we can simple set normalized=True"
   ]
  },
  {
   "cell_type": "code",
   "execution_count": null,
   "metadata": {},
   "outputs": [],
   "source": [
    "U = qu(array, qtype='dop', normalized=True) #creates a unitary operator\n",
    "print(U)"
   ]
  },
  {
   "cell_type": "code",
   "execution_count": null,
   "metadata": {},
   "outputs": [],
   "source": [
    "V = np.kron(v_dual,v) #This computes the tensor (a.k.a Kronecker) product of v and v_dual\n",
    "print(V)"
   ]
  },
  {
   "cell_type": "markdown",
   "metadata": {},
   "source": [
    "As we can see, both yield the same unitary matrix. To check the matrix $U = V$ is indeed unitary we compute the matrix (operator) norm:"
   ]
  },
  {
   "cell_type": "code",
   "execution_count": null,
   "metadata": {},
   "outputs": [],
   "source": [
    "np.linalg.norm(V)"
   ]
  },
  {
   "cell_type": "markdown",
   "metadata": {},
   "source": [
    "Note, due to the floating point computation, $-0. \\neq 0.$ and $-0.j \\neq 0.j$, so python \"believes\" that $U \\neq V$ and that $U$ is not in fact unitary. "
   ]
  },
  {
   "cell_type": "code",
   "execution_count": null,
   "metadata": {},
   "outputs": [],
   "source": [
    "np.array_equal(U,V)"
   ]
  },
  {
   "cell_type": "code",
   "execution_count": null,
   "metadata": {},
   "outputs": [],
   "source": [
    "np.linalg.norm(U)"
   ]
  },
  {
   "cell_type": "markdown",
   "metadata": {},
   "source": [
    "We can also make an array a bra, ket, or an operator using the functions\n",
    "```\n",
    "bra(), ket(), dop()\n",
    "```"
   ]
  },
  {
   "cell_type": "code",
   "execution_count": null,
   "metadata": {},
   "outputs": [],
   "source": [
    "bra(array)"
   ]
  },
  {
   "cell_type": "code",
   "execution_count": null,
   "metadata": {},
   "outputs": [],
   "source": [
    "ket(array)"
   ]
  },
  {
   "cell_type": "code",
   "execution_count": null,
   "metadata": {},
   "outputs": [],
   "source": [
    "dop(array)"
   ]
  }
 ],
 "metadata": {
  "kernelspec": {
   "display_name": "Python 3",
   "language": "python",
   "name": "python3"
  },
  "language_info": {
   "codemirror_mode": {
    "name": "ipython",
    "version": 3
   },
   "file_extension": ".py",
   "mimetype": "text/x-python",
   "name": "python",
   "nbconvert_exporter": "python",
   "pygments_lexer": "ipython3",
   "version": "3.7.3"
  }
 },
 "nbformat": 4,
 "nbformat_minor": 4
}
